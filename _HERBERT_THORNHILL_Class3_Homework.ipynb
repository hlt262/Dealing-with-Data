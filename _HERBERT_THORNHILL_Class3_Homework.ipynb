{
  "nbformat": 4,
  "nbformat_minor": 0,
  "metadata": {
    "kernelspec": {
      "display_name": "Python 3",
      "language": "python",
      "name": "python3"
    },
    "language_info": {
      "codemirror_mode": {
        "name": "ipython",
        "version": 3
      },
      "file_extension": ".py",
      "mimetype": "text/x-python",
      "name": "python",
      "nbconvert_exporter": "python",
      "pygments_lexer": "ipython3",
      "version": "3.7.3"
    },
    "colab": {
      "name": "_HERBERT_THORNHILL_Class3_Homework.ipynb",
      "provenance": [],
      "collapsed_sections": []
    }
  },
  "cells": [
    {
      "cell_type": "markdown",
      "metadata": {
        "id": "ai7rej719rLI",
        "colab_type": "text"
      },
      "source": [
        "## To submit this assignment, please solve the following problem. Then, save your notebook with the format [YOUR_NAME_HERE]\\_Class3_Homework and submit via NYU Classes. "
      ]
    },
    {
      "cell_type": "markdown",
      "metadata": {
        "id": "QYQGKozf9rLN",
        "colab_type": "text"
      },
      "source": [
        "---"
      ]
    },
    {
      "cell_type": "markdown",
      "metadata": {
        "id": "HslJmuuN9rLR",
        "colab_type": "text"
      },
      "source": [
        "### Problem 1 (5 points): \n",
        "Write a program that creates a shopping list of at least 5 items using user input. \n",
        "\n",
        "> 2 points: The user must be able to add to the list and view the updated list as a comma-separated group of items after adding to it.\n",
        "\n",
        "> 2 points: the user must be able to remove items from the list and view the updated list as a comma-separated group of items after removing something from it\n",
        "\n",
        "> 1 point: the user must be able to tell the program to end"
      ]
    },
    {
      "cell_type": "code",
      "metadata": {
        "id": "zQAYS4lw9rLT",
        "colab_type": "code",
        "outputId": "f708c904-3860-4e3f-a2e5-67069bf53327",
        "colab": {
          "base_uri": "https://localhost:8080/",
          "height": 109
        }
      },
      "source": [
        "# your code here\n",
        "items = [] #item list\n",
        "items = input(\"Hello. Welcome to shopping list. Enter some items, separated by spaces: \") #asks user to add items and stores in var items\n",
        "items = items.split() #adds to list\n",
        "print(\"Your shopping list is: \", items) #prints list as comma separated group of items after adding (2 pts)\n",
        "addquestion = input(\"Type R to remove items or E to end\") #asks if you want to remove\n",
        "if addquestion.lower() != \"r\" and addquestion.lower() != \"e\":\n",
        "  print (\"Error, please type R to remove items or E to end\")\n",
        "else:\n",
        "  if addquestion.lower() == \"r\": #if remove\n",
        "    itemremove = input(\"Enter some items to remove, separated by spaces: \") #asks what to remove\n",
        "    itemremove = itemremove.split() #stores the remove requests in var\n",
        "    itemset = set(items) #coverts list to set\n",
        "    removeset = set(itemremove) #converts remove list to set\n",
        "    itemset = itemset.difference(removeset) #removes from set\n",
        "    print(\"Your shopping list is: \", itemset) #prints the updated list (2 pts)\n",
        "  else: \n",
        "    if addquestion.lower() == \"e\": #allows user to end (1 pt)\n",
        "      exit  "
      ],
      "execution_count": 0,
      "outputs": [
        {
          "output_type": "stream",
          "text": [
            "Hello. Welcome to shopping list. Enter some items, separated by spaces: cad dof\n",
            "Your shopping list is:  ['cad', 'dof']\n",
            "Type R to remove items or E to endr\n",
            "Enter some items to remove, separated by spaces: dof\n",
            "Your shopping list is:  {'cad'}\n"
          ],
          "name": "stdout"
        }
      ]
    },
    {
      "cell_type": "markdown",
      "metadata": {
        "id": "Xzt_yTiP9rLd",
        "colab_type": "text"
      },
      "source": [
        "---"
      ]
    },
    {
      "cell_type": "markdown",
      "metadata": {
        "id": "8CVhn3iV9rLg",
        "colab_type": "text"
      },
      "source": [
        "### Problem 2 (2 points):\n",
        "\n",
        "#### Choose your own homework adventure - answer ONE of the following questions completely. \n",
        "\n",
        "(No additional points for extra answers.)\n",
        "\n",
        "> ##### Question 1: Explain the difference between a `list`, a `tuple` and a `set`. Provide a real-world example where it would be more appropriate to use a `list` to store data as compared to a `tuple` or a `set` (comparing to one is good enough).\n",
        "\n",
        "> ##### Question 2: Explain the different between a `dictionary` and a `list`. Provide an real-world example where it would be more appropriate to use a `dictionary` to store data as compared to a `list`. "
      ]
    },
    {
      "cell_type": "markdown",
      "metadata": {
        "id": "iC5XNclj9rLh",
        "colab_type": "text"
      },
      "source": [
        "\n",
        "A list is an orderable colection of values, where the values are contained in brackets and separated by commas.  A dictionary is a data structure contained in braces that stores key-value pairs in the format 'key:value', and each pair is separated by commas.  The dictionary allows you to store different values associated with a certain key whereas a list only lets you store individual values that belong to that list.  A good example of where we would want to use a dictionary is when you want to 'map' data elements. At work, for example, if we wanted to associate account numbers and types with clients, we could use a dictionary to say \n",
        "```\n",
        "clients = {\n",
        "  \"client1\":{\n",
        "    \"account1\",:\"accountno\",\n",
        "    \"accounttype\":\"typeno\"\n",
        "  }\n",
        "  \"client2\":{\n",
        "    \"account2\",:\"accountno2\"},\n",
        "    \"accounttype2\":\"typeno2\"\n",
        "  }\n",
        "}    \n",
        "```\n",
        "and so on so that we can easily maintain a list of accountnumbers/types for each client, look up the keys, and obtain the values of different sets of criteria.\n"
      ]
    },
    {
      "cell_type": "markdown",
      "metadata": {
        "id": "p3DiWrqi9rLk",
        "colab_type": "text"
      },
      "source": [
        "---"
      ]
    },
    {
      "cell_type": "markdown",
      "metadata": {
        "id": "-0A1eOw49rLm",
        "colab_type": "text"
      },
      "source": [
        "### Problem 3 (3 points): \n",
        "\n",
        "Create a nested data structure to store fake data for a real-world use case that is NOT an example we covered in class. \n",
        "\n",
        "It must have a minimum of one nested structure, such as our in-class phone number example where a `list` was nested within a `dictionary`. \n",
        "\n",
        "Print values from each part of the nested structure separately. Describe what each nested level is doing using comments."
      ]
    },
    {
      "cell_type": "code",
      "metadata": {
        "id": "-HiA8amX9rLn",
        "colab_type": "code",
        "colab": {
          "base_uri": "https://localhost:8080/",
          "height": 54
        },
        "outputId": "6d0c77b8-d239-4a72-ac2d-bac8bb0df96a"
      },
      "source": [
        "# your code here\n",
        "\n",
        "clientemails = { #creates dictionary nest of clients\n",
        "    \n",
        "    'Abacus': { #first level - client\n",
        "        'Client Services': 'jen@abacus.com', #second level - client services contact\n",
        "        'Middle Office': 'abacusmo@abacus.com' #second level -  middle office contact\n",
        "    },\n",
        "    'Beta': {\n",
        "        'Officer': 'sandy@betacapital.com', \n",
        "        'Client Services': 'csdept@beta.com' \n",
        "    },\n",
        "    'Citadel': {\n",
        "        'Middle Office': 'citadeleqmo@citadel.com'\n",
        "    },\n",
        "    'Delta': {\n",
        "        'Client Services': 'deltamo@deltasecurities.com'\n",
        "    }\n",
        "}\n",
        "\n",
        "print(clientemails['Abacus']) # prints Abacus emails (first level)\n",
        "print(clientemails['Beta']['Client Services']) #prints Beta officer rmails only (second level)\n"
      ],
      "execution_count": 13,
      "outputs": [
        {
          "output_type": "stream",
          "text": [
            "{'Client Services': 'jen@abacus.com', 'Middle Office': 'abacusmo@abacus.com'}\n",
            "csdept@beta.com\n"
          ],
          "name": "stdout"
        }
      ]
    }
  ]
}