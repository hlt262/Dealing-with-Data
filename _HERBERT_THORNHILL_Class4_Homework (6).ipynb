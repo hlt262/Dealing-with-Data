{
  "nbformat": 4,
  "nbformat_minor": 0,
  "metadata": {
    "kernelspec": {
      "display_name": "Python 3",
      "language": "python",
      "name": "python3"
    },
    "language_info": {
      "codemirror_mode": {
        "name": "ipython",
        "version": 3
      },
      "file_extension": ".py",
      "mimetype": "text/x-python",
      "name": "python",
      "nbconvert_exporter": "python",
      "pygments_lexer": "ipython3",
      "version": "3.7.3"
    },
    "colab": {
      "name": "_HERBERT_THORNHILL_Class4_Homework.ipynb",
      "provenance": []
    }
  },
  "cells": [
    {
      "cell_type": "markdown",
      "metadata": {
        "id": "qVir_AmFdm_Q",
        "colab_type": "text"
      },
      "source": [
        "## To submit this assignment, please solve the following problem. Then, save your notebook with the format [YOUR_NAME_HERE]\\_Class4_Homework and submit via NYU Classes. "
      ]
    },
    {
      "cell_type": "markdown",
      "metadata": {
        "id": "6s-JqKsGdm_T",
        "colab_type": "text"
      },
      "source": [
        "---"
      ]
    },
    {
      "cell_type": "markdown",
      "metadata": {
        "id": "9YKLf0oCdm_U",
        "colab_type": "text"
      },
      "source": [
        "### Problem 1 (5 points): \n",
        "\n",
        "Update your shopping list program from last week's homework to use a `while` statement, enabling users to add/remove as many items as they wish to their shopping list.\n",
        "\n",
        "> 3 points: The user must be able to add items to and remove items from the list. The program must display the updated list after each add/remove.\n",
        "\n",
        "> 1 point: the user must be able to tell the program to end\n",
        "\n",
        "> 1 point: the program must prevent program errors from occuring due to bad user input"
      ]
    },
    {
      "cell_type": "code",
      "metadata": {
        "id": "Pp9M7tf-dm_V",
        "colab_type": "code",
        "colab": {}
      },
      "source": [
        "# your code here\n",
        "\n",
        "shopping_list = [] #creates list\n",
        "\n",
        "command = input(\"Hello, type 'ADD' to add some items (separate with commas), 'REMOVE' to remove, or 'END' to quit.\")  #asks for Add/Remove/End\n",
        "\n",
        "while command.lower()!= \"end\":#while not end\n",
        "\n",
        "  if command.lower() == \"add\":            #The user must be able to add items to and remove items from the list.\n",
        "    items = input().lower().split(\",\")  #split and store lower case\n",
        "    for item in items: #if string \n",
        "      if item not in shopping_list: # if not in list\n",
        "        shopping_list.append(item)  #add item\n",
        "    print(\"Your shopping list is: \" + str(shopping_list)) #display the updated list after each add/remove.\n",
        "    command = input(\"Type 'ADD' to add some items, 'REMOVE' to remove, or 'END' to quit: \") # ask for next command\n",
        "\n",
        "  elif command.lower() == \"remove\":       #The user must be able to add items to and remove items from the list.\n",
        "    print(\"Please separate each item you want to remove with a comma\") \n",
        "    items = input().lower().split(\",\") # take each item from their comma separated list...\n",
        "    for item in items: # and for each of those items (eac 'thing' separated by a comma)\n",
        "      if item in shopping_list: # if that item is in their shopping list...\n",
        "        shopping_list.remove(item) # ...remove that item\n",
        "      print(\"Your shopping list is: \" + str(shopping_list)) #display the updated list after each add/remove.\n",
        "      command = input(\"Type 'ADD' to add some items, 'REMOVE' to remove, or 'END' to quit: \") # ask for next command\n",
        "\n",
        "  elif command.lower() == \"end\":        #able to tell the program to end\n",
        "    exit\n",
        "\n",
        "  elif command.lower() != \"add\" and command.lower() != \"remove\" and command.lower() != \"end\": #prevent program errors from occuring due to bad user input\n",
        "    print(\"Your shopping list is: \" + str(shopping_list)) #print list as string\n",
        "    command = input (\"Error, please type ADD to add items, REMOVE to remove items, or END to end\") # ask for next command"
      ],
      "execution_count": 0,
      "outputs": []
    },
    {
      "cell_type": "markdown",
      "metadata": {
        "id": "tADyvSTBdm_Z",
        "colab_type": "text"
      },
      "source": [
        "---"
      ]
    },
    {
      "cell_type": "markdown",
      "metadata": {
        "id": "jXTCyRj0dm_a",
        "colab_type": "text"
      },
      "source": [
        "### Problem 2 (5 points):\n",
        "\n",
        "Create a program that randomly mutates a phrase that a user inputs by add/removing random words.\n",
        "\n",
        "> 2 points: enable a user to input a phrase\n",
        "\n",
        "> 1 point: print 10 variations that add and remove random words to change the phrase - each time the program is run, the variational changes must be different\n",
        "\n",
        "> 1 point: create a user-defined function to create at least one part of the random effect.\n",
        "\n",
        "> 1 point: use the `random` library: https://docs.python.org/3/library/random.html\n",
        "\n",
        "*An example with 2 iterations:*\n",
        "\n",
        "First run\n",
        "\n",
        "`user input` = \"some random phrase\"\n",
        "\n",
        "`first output` = \"some ran in phrase\"\n",
        "\n",
        "`second output` = \"summer in phrase\"\n",
        "\n",
        "Second run\n",
        "\n",
        "`user input` = \"some random phrase\"\n",
        "\n",
        "`first output` = \"some random freeze\"\n",
        "\n",
        "`second output` = \"summer freeze\"\n"
      ]
    },
    {
      "cell_type": "code",
      "metadata": {
        "id": "qBxKRyNmdm_b",
        "colab_type": "code",
        "colab": {
          "base_uri": "https://localhost:8080/",
          "height": 221
        },
        "outputId": "bc8a5623-f077-4567-bcc1-0261652153c4"
      },
      "source": [
        "# your code here\n",
        "import random             #1 point: use the random library: https://docs.python.org/3/library/random.html\n",
        "\n",
        "wordlist = \"\"\"\n",
        "Two assure edward whence the was Who worthy yet ten boy denote wonder Weeks views her sight old tears sorry Additions can suspected its concealed put furnished Met the why particular devonshire decisively considered partiality Certain it waiting no entered is Passed her indeed uneasy shy polite appear denied Oh less girl no walk At he spot with five of view \n",
        "On am we offices expense thought Its hence ten smile age means Seven chief sight far point any Of so high into easy Dashwoods eagerness oh extensive as discourse sportsman frankness Husbands see disposed surprise likewise humoured yet pleasure Fifteen no inquiry cordial so resolve garrets as Impression was estimating surrounded solicitude indulgence son shy \n",
        "Remain valley who mrs uneasy remove wooded him you Her questions favourite him concealed We to wife face took he The taste begin early old why since dried can first Prepared as or humoured formerly Evil mrs true get post Express village evening prudent my as ye hundred forming Thoughts she why not directly reserved packages you Winter an silent favour of am tended mutual \n",
        "Smallest directly families surprise honoured am an Speaking replying mistress him numerous she returned feelings may day Evening way luckily son exposed get general greatly Zealously prevailed be arranging do Set arranging too dejection september happiness Understood instrument or do connection no appearance do invitation Dried quick round it or order Add past see west felt did any Say out noise you taste merry plate you share My resolve arrived is we chamber be removal \n",
        "Effects present letters inquiry no an removed or friends Desire behind latter me though in Supposing shameless am he engrossed up additions My possible peculiar together to Desire so better am cannot he up before points Remember mistaken opinions it pleasure of debating Court front maids forty if aware their at Chicken use are pressed removed \n",
        "Yet bed any for travelling assistance indulgence unpleasing Not thoughts all exercise blessing Indulgence way everything joy alteration boisterous the attachment Party we years to order allow asked of We so opinion friends me message as delight Whole front do of plate heard oh ought His defective nor convinced residence own Connection has put impossible own apartments boisterous At jointure ladyship an insisted so humanity he Friendly bachelor entrance to on by \n",
        "Building mr concerns servants in he outlived am breeding He so lain good miss when sell some at if Told hand so an rich gave next How doubt yet again see son smart While mirth large of on front Ye he greater related adapted proceed entered an Through it examine express promise no Past add size game cold girl off how old \n",
        "Both rest of know draw fond post as It agreement defective to excellent Feebly do engage of narrow Extensive repulsive belonging depending if promotion be zealously as Preference inquietude ask now are dispatched led appearance Small meant in so doubt hopes Me smallness is existence attending he enjoyment favourite affection Delivered is to ye belonging enjoyment preferred Astonished and acceptance men two discretion Law education recommend did objection how old \n",
        "Good draw knew bred ham busy his hour Ask agreed answer rather joy nature admire wisdom Moonlight age depending bed led therefore sometimes preserved exquisite she An fail up so shot leaf wise in Minuter highest his arrived for put and Hopes lived by rooms oh in no death house Contented direction september but end led excellent ourselves may Ferrars few arrival his offered not charmed you Offered anxious respect or he On three thing chief years in money arise of \n",
        "Wrong do point avoid by fruit learn or in death So passage however besides invited comfort elderly be me Walls began of child civil am heard hoped my Satisfied pretended mr on do determine by Old post took and ask seen fact rich Man entrance settling believed eat joy Money as drift begin on to Comparison up insipidity especially discovered me of decisively in surrounded Points six way enough she its father Folly sex downs tears ham green forty \n",
        "Unwilling sportsmen he in questions september therefore described so Attacks may set few believe moments was Reasonably how possession shy way introduced age inquietude Missed he engage no exeter of Still tried means we aware order among on Eldest father can design tastes did joy settle Roused future he ye an marked Arose mr rapid in so vexed words Gay welcome led add lasting chiefly say looking \n",
        "Sportsman do offending supported extremity breakfast by listening Decisively advantages nor expression unpleasing she led met Estate was tended ten boy nearer seemed As so seeing latter he should thirty whence Steepest speaking up attended it as Made neat an on be gave show snug tore \n",
        "Residence certainly elsewhere something she preferred cordially law Age his surprise formerly mrs perceive few stanhill moderate Of in power match on truth worse voice would Large an it sense shall an match learn By expect it result silent in formal of Ask eat questions abilities described elsewhere assurance Appetite in unlocked advanced breeding position concerns as Cheerful get shutters yet for repeated screened An no am cause hopes at three Prevent behaved fertile he is mistake on \n",
        "Remain valley who mrs uneasy remove wooded him you Her questions favourite him concealed We to wife face took he The taste begin early old why since dried can first Prepared as or humoured formerly Evil mrs true get post Express village evening prudent my as ye hundred forming Thoughts she why not directly reserved packages you Winter an silent favour of am tended mutual \n",
        "Left till here away at to whom past Feelings laughing at no wondered repeated provided finished It acceptance thoroughly my advantages everything as Are projecting inquietude affronting preference saw who Marry of am do avoid ample as Old disposal followed she ignorant desirous two has Called played entire roused though for one too He into walk roof made tall cold he Feelings way likewise addition wandered contempt bed indulged \n",
        "Ignorant branched humanity led now marianne too strongly entrance Rose to shew bore no ye of paid rent form Old design are dinner better nearer silent excuse She which are maids boy sense her shade Considered reasonable we affronting on expression in So cordial anxious mr delight Shot his has must wish from sell nay Remark fat set why are sudden depend change entire wanted Performed remainder attending led fat residence far \n",
        "In by an appetite no humoured returned informed Possession so comparison inquietude he he conviction no decisively Marianne jointure attended she hastened surprise but she Ever lady son yet you very paid form away He advantage of exquisite resolving if on tolerably Become sister on in garden it barton waited on \n",
        "Advantage old had otherwise sincerity dependent additions It in adapted natural hastily is justice Six draw you him full not mean evil Prepare garrets it expense windows shewing do an She projection advantages resolution son indulgence Part sure on no long life am at ever In songs above he as drawn to Gay was outlived peculiar rendered led six \n",
        "Received overcame oh sensible so at an Formed do change merely to county it Am separate contempt domestic to to oh On relation my so addition branched Put hearing cottage she norland letters equally prepare too Replied exposed savings he no viewing as up Soon body add him hill No father living really people estate if Mistake do produce beloved demesne if am pursuit \n",
        "Quick six blind smart out burst Perfectly on furniture dejection determine my depending an to Add short water court fat Her bachelor honoured perceive securing but desirous ham required Questions deficient acuteness to engrossed as Entirely led ten humoured greatest and yourself Besides ye country on observe She continue appetite endeavor she judgment interest the met For she surrounded motionless fat resolution may \n",
        "One advanced diverted domestic sex repeated bringing you old Possible procured her trifling laughter thoughts property she met way Companions shy had solicitude favourable own Which could saw guest man now heard but Lasted my coming uneasy marked so should Gravity letters it amongst herself dearest an windows by Wooded ladies she basket season age her uneasy saw Discourse unwilling am no described dejection incommode no listening of Before nature his parish boy \n",
        "View fine me gone this name an rank Compact greater and demands mrs the parlors Park be fine easy am size away Him and fine bred knew At of hardly sister favour As society explain country raising weather of Sentiments nor everything off out uncommonly partiality bed \n",
        "Uneasy barton seeing remark happen his has Am possible offering at contempt mr distance stronger an Attachment excellence announcing or reasonable am on if indulgence Exeter talked in agreed spirit no he unable do Betrayed shutters in vicinity it unpacked in In so impossible appearance considered mr Mrs him left find are good \n",
        "Do in laughter securing smallest sensible no mr hastened As perhaps proceed in in brandon of limited unknown greatly Distrusts fulfilled happiness unwilling as explained of difficult No landlord of peculiar ladyship attended if contempt ecstatic Loud wish made on is am as hard Court so avoid in plate hence Of received mr breeding concerns peculiar securing landlord Spot to many it four bred soon well to Or am promotion in no departure abilities Whatever landlord yourself at by pleasure of children be \n",
        "On recommend tolerably my belonging or am Mutual has cannot beauty indeed now sussex merely you It possible no husbands jennings ye offended packages pleasant he Remainder recommend engrossed who eat she defective applauded departure joy Get dissimilar not introduced day her apartments Fully as taste he mr do smile abode every Luckily offered article led lasting country minutes nor old Happen people things oh is oppose up parish effect Law handsome old outweigh humoured far appetite \n",
        "Abilities forfeited situation extremely my to he resembled Old had conviction discretion understood put principles you Match means keeps round one her quick She forming two comfort invited Yet she income effect edward Entire desire way design few Mrs sentiments led solicitude estimating friendship fat Meant those event is weeks state it to or Boy but has folly charm there its Its fact ten spot drew \n",
        "If wandered relation no surprise of screened doubtful Overcame no insisted ye of trifling husbands Might am order hours on found Or dissimilar companions friendship impossible at diminution Did yourself carriage learning she man its replying Sister piqued living her you enable mrs off spirit really Parish oppose repair is me misery Quick may saw style after money mrs \n",
        "Adieus except say barton put feebly favour him Entreaties unpleasant sufficient few pianoforte discovered uncommonly ask Morning cousins amongst in mr weather do neither Warmth object matter course active law spring six Pursuit showing tedious unknown winding see had man add And park eyes too more him Simple excuse active had son wholly coming number add Though all excuse ladies rather regard assure yet If feelings so prospect no as raptures quitting \n",
        "Wrong do point avoid by fruit learn or in death So passage however besides invited comfort elderly be me Walls began of child civil am heard hoped my Satisfied pretended mr on do determine by Old post took and ask seen fact rich Man entrance settling believed eat joy Money as drift begin on to Comparison up insipidity especially discovered me of decisively in surrounded Points six way enough she its father Folly sex downs tears ham green forty \n",
        "Why painful the sixteen how minuter looking nor Subject but why ten earnest husband imagine sixteen brandon Are unpleasing occasional celebrated motionless unaffected conviction out Evil make to no five they Stuff at avoid of sense small fully it whose an Ten scarcely distance moreover handsome age although As when have find fine or said no mile He in dispatched in imprudence dissimilar be possession unreserved insensible She evil face fine calm have now Separate screened he outweigh of distance landlord\n",
        "There was something to be said for living a life that didnt involve lengthy interrogations By that standard at least Holden had not lived his well When he and the rest of the Rocinantes crew had agreed to be debriefed hed guessed that it would be more than just the events surrounding the attack on Earth by the Free Navy There was more than enough to talk about after all The chief engineer on Tycho Station whod been exposed as a mole for Marco Inaros the abduction and rescue of Monica Stuart the loss of the protomolecule sample the attack that had nearly killed Fred Johnson And that was just for him Naomi and Alex and even Amos would have whole volumes of their own to contribute\n",
        "He hadnt expected that the questioning would spread out from there like a gas to fill all available space For weeks now his days had been filled with twelve to sixteen hours of talking through anything and everything in his life The names and histories of all eight of his parents His school records His abortive naval career What he knew about Naomi about Alex about Fred Johnson His relationship with the OPA with Dmitri Havelock with Detective Miller Even after hours of review he wasnt sure about that last one Sitting in the small room across from the UN interrogators Holden had done his best to take apart his life until that point and lay it open before them\n",
        "\"\"\" #2000 random words (better to import a library that can generate one, but this works)\n",
        "wordlist = wordlist.lower().split()\n",
        "user_phrase = input(\"Enter a random phrase: \")    #2 points: enable a user to input a phrase\n",
        "\n",
        "def randomize(user_phrase):             #1 point: create a user-defined function to create at least one part of the random effect.\n",
        "  randomword = random.choice (wordlist) #pick a random word (random with each iteration)\n",
        "  randomword2 = random.choice (wordlist) #pick another (even more random with each iteration)\n",
        "  randomizedphrase = randomword + \" \" + user_phrase + \" \" + randomword2 #add two random words\n",
        "  randomizedphrase = randomizedphrase.lower().split() #make a list to shuffle and remove\n",
        "  random.shuffle(randomizedphrase) #shuffle (adds randomness with each iteration)\n",
        "  maxnum = len(randomizedphrase) - 1 #length of phrase minus one is the max for the removal\n",
        "  randompick = random.randint(0,maxnum) #pick a number from 0 to maxnum\n",
        "  if randompick % 2 == 0: #if even \n",
        "    randomizedphrase.pop(randompick) #remove a random word\n",
        "    return str(randomizedphrase)\n",
        "  elif randompick % 2 == 1: #if odd, dont remove (adds randomness for length with each iteration)\n",
        "    return str(randomizedphrase)\n",
        " \n",
        "phrasecount = 0\n",
        "while phrasecount <=9: #print 10 variations that add and remove random words to change the phrase - each time the program is run, the variational changes must be different\n",
        "  randomizedphrase = randomize(user_phrase)\n",
        "  phrasecount += 1\n",
        "  print(str(randomizedphrase))\n",
        "print (\"Randomization complete.\")"
      ],
      "execution_count": 139,
      "outputs": [
        {
          "output_type": "stream",
          "text": [
            "Enter a random phrase: silly man ate chicken big boy blue\n",
            "['big', 'boy', 'bred', 'chicken', 'ate', 'blue', 'silly', 'behaved']\n",
            "['blue', 'man', 'ate', 'boy', 'silly', 'eagerness', 'big', 'chicken']\n",
            "['in', 'man', 'boy', 'ate', 'chicken', 'blue', 'away', 'silly']\n",
            "['no', 'ate', 'big', 'blue', 'silly', 'man', 'chicken', 'boy', 'quick']\n",
            "['boy', 'big', 'ate', 'man', 'sometimes', 'inquietude', 'blue', 'chicken', 'silly']\n",
            "['big', 'blue', 'entire', 'are', 'boy', 'ate', 'man', 'silly', 'chicken']\n",
            "['man', 'may', 'boy', 'silly', 'big', 'ate', 'boisterous', 'chicken', 'blue']\n",
            "['chicken', 'in', 'silly', 'big', 'ate', 'man', 'boy', 'elsewhere', 'blue']\n",
            "['blue', 'big', 'chicken', 'chicken', 'add', 'silly', 'boy', 'ate', 'man']\n",
            "['letters', 'chicken', 'silly', 'procured', 'ate', 'boy', 'big', 'blue']\n",
            "Randomization complete.\n"
          ],
          "name": "stdout"
        }
      ]
    },
    {
      "cell_type": "markdown",
      "metadata": {
        "id": "tnDh0blUdm_e",
        "colab_type": "text"
      },
      "source": [
        "\n"
      ]
    }
  ]
}