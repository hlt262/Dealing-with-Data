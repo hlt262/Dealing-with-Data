{
 "cells": [
  {
   "cell_type": "markdown",
   "metadata": {},
   "source": [
    "### Problem 1 (5 points): \n",
    "Write a program that creates a shopping list of at least 5 items using user input. \n",
    "\n",
    "> 2 points: The user must be able to add to the list and view the updated list as a comma-separated group of items after adding to it.\n",
    "\n",
    "> 2 points: the user must be able to remove items from the list and view the updated list as a comma-separated group of items after removing something from it\n",
    "\n",
    "> 1 point: the user must be able to tell the program to end"
   ]
  },
  {
   "cell_type": "code",
   "execution_count": null,
   "metadata": {},
   "outputs": [],
   "source": [
    "shopping_list = [] # instantiate an empty list\n",
    "\n",
    "print(\"Would you like to start shopping? (Yes/No)\") # prompt the user \n",
    "\n",
    "answer = input().lower() # make the user's answer lowercase and store the user's response as \"anwer\"\n",
    "\n",
    "if answer == \"yes\": # if the user says yes...\n",
    "    print(\"If you want to add items, please type \\\"Add\\\". \\nIf you want to remove items, please type \\\"Remove\\\". \") # print this prompt\n",
    "    option = input().lower() # save their next input as \"option\"\n",
    "        \n",
    "    if option == 'add': # and the user has asked to 'add' items to their cart...\n",
    "        print(\"\\nFeel free to add any number items to your cart, but please separate each item in your list with a comma (','). \\nIf you want to check out at any time, please type \\\"Check Out\\\".\") # print this prompt\n",
    "        items = input().lower().split(\",\") # then take each item from their comma separated list...\n",
    "        for item in items: # and for each of those items (each 'thing' separated by a comma)\n",
    "            if item not in shopping_list: # as long as that item isn't already in their shopping list...\n",
    "                shopping_list.append(item) # ...add that item to their shopping list\n",
    "        print(\"\\nYour shopping list now includes: \" + str(shopping_list)) # then print the list so they can see what's in it\n",
    "        \n",
    "    elif option == 'remove': # if the user has asked to 'remove' items from their cart...\n",
    "        print(\"\\nFeel free to remove any number items to your cart, but please separate each item in your list with a comma (','). \\nIf you want to check out at any time, please type \\\"Check Out\\\".\") # print this prompt\n",
    "        items = input().lower().split(\",\") # take each item from their comma separated list...\n",
    "        for item in items: # and for each of those items (eac 'thing' separated by a comma)\n",
    "            if item in shopping_list: # if that item is in their shopping list...\n",
    "                shopping_list.remove(item) # ...remove that item\n",
    "        print(\"\\nYour shopping list now includes: \" + str(shopping_list)) # then print the list so they can see what's in it\n",
    "\n",
    "    else:  # if the input is not \"add\" or \"remove\"\n",
    "        print(\"\\nWrong Input\") # print \"wrong input\"\n",
    "        \n",
    "    print(\"Would you like to continue shopping? (Yes/No)\") # prompt the user \n",
    "\n",
    "    answer = input().lower() # make the user's answer lowercase and store the user's response as \"anwer\"\n",
    "\n",
    "    if answer == \"no\": # if the user says yes...\n",
    "        print(\"\\nYour final shopping list includes: \" + str(shopping_list)) # then print the list so they can see what's in it\n",
    "\n",
    "    else: \n",
    "        print(\"If you want to add items, please type \\\"Add\\\". \\nIf you want to remove items, please type \\\"Remove\\\". \") # print this prompt\n",
    "    \n",
    "        option = input().lower() # save their next input as \"option\"\n",
    "        \n",
    "        if option == 'add': # and the user has asked to 'add' items to their cart...\n",
    "            print(\"\\nFeel free to add any number items to your cart, but please separate each item in your list with a comma (','). \\nIf you want to check out at any time, please type \\\"Check Out\\\".\") # print this prompt\n",
    "            items = input().lower().split(\",\") # then take each item from their comma separated list...\n",
    "            for item in items: # and for each of those items (each 'thing' separated by a comma)\n",
    "                if item not in shopping_list: # as long as that item isn't already in their shopping list...\n",
    "                    shopping_list.append(item) # ...add that item to their shopping list\n",
    "            print(\"\\nYour shopping list now includes: \" + str(shopping_list)) # then print the list so they can see what's in it\n",
    "\n",
    "        elif option == 'remove': # if the user has asked to 'remove' items from their cart...\n",
    "            print(\"\\nFeel free to remove any number items to your cart, but please separate each item in your list with a comma (','). \\nIf you want to check out at any time, please type \\\"Check Out\\\".\") # print this prompt\n",
    "            items = input().lower().split(\",\") # take each item from their comma separated list...\n",
    "            for item in items: # and for each of those items (eac 'thing' separated by a comma)\n",
    "                if item in shopping_list: # if that item is in their shopping list...\n",
    "                    shopping_list.remove(item) # ...remove that item\n",
    "            print(\"\\nYour shopping list now includes: \" + str(shopping_list)) # then print the list so they can see what's in it\n",
    "\n",
    "        else:  # if the input is not \"add\" or \"remove\"\n",
    "            print(\"\\nWrong Input\") # print \"wrong input\" \n",
    "\n",
    "else: # if they say \"no\" to the original prompt...\n",
    "    print(\"Look forward to serving you next time!\") # print this message       \n"
   ]
  },
  {
   "cell_type": "markdown",
   "metadata": {},
   "source": [
    "---"
   ]
  },
  {
   "cell_type": "markdown",
   "metadata": {},
   "source": [
    "### Problem 2 (2 points):\n",
    "\n",
    "#### Choose your own homework adventure - answer ONE of the following questions completely. \n",
    "\n",
    "(No additional points for extra answers.)\n",
    "\n",
    "> ##### Question 1: Explain the difference between a `list`, a `tuple` and a `set`. Provide a real-world example where it would be more appropriate to use a `list` to store data as compared to a `tuple` or a `set` (comparing to one is good enough).\n",
    "\n",
    "> ##### Question 2: Explain the different between a `dictionary` and a `list`. Provide an real-world example where it would be more appropriate to use a `dictionary` to store data as compared to a `list`. "
   ]
  },
  {
   "cell_type": "markdown",
   "metadata": {},
   "source": [
    "A **list** (of comma-separated entries between square brackets) is mutable; AKA, it can be altered. \n",
    "\n",
    "For instance, our grocery example above is a perfect use case for a list because we are constantly updating it. Note that you can have a list of anything – a list of strings, integers, floats, other lists, dictionaries, or tuples! \n",
    "\n",
    "A **tuple** (of comma-separated entries between parantheses) is *im*utable; AKA, it cannot be altered. \n",
    "\n",
    "That means you can't reassign or slice a single entry in a tuple; You can, however, reassign or delete an entire tuple. \n",
    "\n",
    "Unlike a list, a tuple would be useful if you have a stored, unchanging tuple of values that you want to recall at a given moment. \n",
    "\n",
    "A **set** (of comma-separated entries between curly braces) does not hold duplicate values and is unordered, but is also mutable; AKA, it can be changed. \n",
    "\n",
    "Because the set is unordred, we can't use indexing; instead, we use functions like (discard(), pop(), clear(), remove(), and add(). \n",
    "\n",
    "\n",
    "\n",
    "A **dictionary** holds a set of key-value pairs (like {key:value}). Like a list, a dictionary is mutable, but it has key-value pairs instead of single values, and we use keys as indices to access values. \n",
    "\n",
    "If we were storing user data whereby we associated a given name with an ID, we would want to use a dictionary rather than a list, that way we could look up a corresponding ID by providing a user's name, or vice-versa. "
   ]
  },
  {
   "cell_type": "markdown",
   "metadata": {},
   "source": [
    "---"
   ]
  },
  {
   "cell_type": "markdown",
   "metadata": {},
   "source": [
    "### Problem 3 (3 points): \n",
    "\n",
    "Create a nested data structure to store fake data for a real-world use case that is NOT an example we covered in class. \n",
    "\n",
    "It must have a minimum of one nested structure, such as our in-class phone number example where a `list` was nested within a `dictionary`. \n",
    "\n",
    "Print values from each part of the nested structure separately. Describe what each nested level is doing using comments."
   ]
  },
  {
   "cell_type": "code",
   "execution_count": null,
   "metadata": {},
   "outputs": [],
   "source": [
    "# instantiating a dictionary that includes an partial list of the different NY State Universities and their overarching characteristics\n",
    "\n",
    "schools = {\n",
    "    \"SUNY University Centers\": [\"University at Buffalo\",\"Binghamton University\",\"Stony Brook University\",\"University at Albany, SUNY\"],\n",
    "    \"SUNY Technology Centers\": [\"Alfred State College\",\"State University of NY at Canton\",\"State University of NY at Cobleskill\",\"State University of NY at Delhi\"],\n",
    "    \"SUNY Comprhensive Colleges\": [\"Buffalo State College\",\"Empire State College, Saratoga Springs\"]\n",
    "}"
   ]
  },
  {
   "cell_type": "code",
   "execution_count": null,
   "metadata": {},
   "outputs": [],
   "source": [
    "schools['SUNY University Centers'] # printing all the scools associated as values to the key 'SUNY University Centers'"
   ]
  },
  {
   "cell_type": "code",
   "execution_count": null,
   "metadata": {},
   "outputs": [],
   "source": [
    "schools['SUNY University Centers'][0] # printing the first value entry in the 'SUNY Univeristy Centers key'"
   ]
  },
  {
   "cell_type": "code",
   "execution_count": null,
   "metadata": {},
   "outputs": [],
   "source": [
    "schools # printing the complete dictionary "
   ]
  }
 ],
 "metadata": {
  "kernelspec": {
   "display_name": "Python 3",
   "language": "python",
   "name": "python3"
  },
  "language_info": {
   "codemirror_mode": {
    "name": "ipython",
    "version": 3
   },
   "file_extension": ".py",
   "mimetype": "text/x-python",
   "name": "python",
   "nbconvert_exporter": "python",
   "pygments_lexer": "ipython3",
   "version": "3.7.3"
  }
 },
 "nbformat": 4,
 "nbformat_minor": 2
}
