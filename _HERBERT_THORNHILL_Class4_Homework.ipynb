{
 "cells": [
  {
   "cell_type": "markdown",
   "metadata": {},
   "source": [
    "## To submit this assignment, please solve the following problem. Then, save your notebook with the format [YOUR_NAME_HERE]\\_Class4_Homework and submit via NYU Classes. "
   ]
  },
  {
   "cell_type": "markdown",
   "metadata": {},
   "source": [
    "---"
   ]
  },
  {
   "cell_type": "markdown",
   "metadata": {},
   "source": [
    "### Problem 1 (5 points): \n",
    "\n",
    "Update your shopping list program from last week's homework to use a `while` statement, enabling users to add/remove as many items as they wish to their shopping list.\n",
    "\n",
    "> 3 points: The user must be able to add items to and remove items from the list. The program must display the updated list after each add/remove.\n",
    "\n",
    "> 1 point: the user must be able to tell the program to end\n",
    "\n",
    "> 1 point: the program must prevent program errors from occuring due to bad user input"
   ]
  },
  {
   "cell_type": "code",
   "execution_count": null,
   "metadata": {},
   "outputs": [],
   "source": [
    "# your code here"
   ]
  },
  {
   "cell_type": "markdown",
   "metadata": {},
   "source": [
    "---"
   ]
  },
  {
   "cell_type": "markdown",
   "metadata": {},
   "source": [
    "### Problem 2 (5 points):\n",
    "\n",
    "Create a program that randomly mutates a phrase that a user inputs by add/removing random words.\n",
    "\n",
    "> 2 points: enable a user to input a phrase\n",
    "\n",
    "> 1 point: print 10 variations that add and remove random words to change the phrase - each time the program is run, the variational changes must be different\n",
    "\n",
    "> 1 point: create a user-defined function to create at least one part of the random effect.\n",
    "\n",
    "> 1 point: use the `random` library: https://docs.python.org/3/library/random.html\n",
    "\n",
    "*An example with 2 iterations:*\n",
    "\n",
    "First run\n",
    "\n",
    "`user input` = \"some random phrase\"\n",
    "\n",
    "`first output` = \"some ran in phrase\"\n",
    "\n",
    "`second output` = \"summer in phrase\"\n",
    "\n",
    "Second run\n",
    "\n",
    "`user input` = \"some random phrase\"\n",
    "\n",
    "`first output` = \"some random freeze\"\n",
    "\n",
    "`second output` = \"summer freeze\"\n"
   ]
  },
  {
   "cell_type": "code",
   "execution_count": null,
   "metadata": {},
   "outputs": [],
   "source": [
    "# your code here"
   ]
  },
  {
   "cell_type": "markdown",
   "metadata": {},
   "source": [
    "\n"
   ]
  }
 ],
 "metadata": {
  "kernelspec": {
   "display_name": "Python 3",
   "language": "python",
   "name": "python3"
  },
  "language_info": {
   "codemirror_mode": {
    "name": "ipython",
    "version": 3
   },
   "file_extension": ".py",
   "mimetype": "text/x-python",
   "name": "python",
   "nbconvert_exporter": "python",
   "pygments_lexer": "ipython3",
   "version": "3.7.3"
  }
 },
 "nbformat": 4,
 "nbformat_minor": 2
}
